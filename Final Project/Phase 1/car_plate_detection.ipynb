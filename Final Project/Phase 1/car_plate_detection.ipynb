{
 "cells": [
  {
   "cell_type": "markdown",
   "metadata": {},
   "source": [
    "* **[Phase 1 - Data Collection and Visualization](#phase1)**\n",
    "   - [Imports & Installations](#import)\n",
    "   - [Data Loading](#step01)   \n",
    "   - [Data Parsing & Cleaning](#step02)  \n",
    "   - [Data Flattening](#step03)  \n",
    "   - [Exporting Data to Excel](#step04)  \n",
    "\n",
    "* **[Phase 2 - Data Storage and Processing Pipeline](#phase2)**\n",
    "* **[Phase 3 - Final Conclusions and Model Development](#phase3)**\n"
   ]
  },
  {
   "cell_type": "markdown",
   "metadata": {},
   "source": [
    "<a id='phase1'></a>\n",
    "## **Phase 1 - Data Collection and Visualization**"
   ]
  },
  {
   "cell_type": "markdown",
   "metadata": {},
   "source": [
    "<a id='import'></a>\n",
    "### **Imports & Installations**"
   ]
  },
  {
   "cell_type": "code",
   "execution_count": 21,
   "metadata": {},
   "outputs": [],
   "source": [
    "# !pip install kagglehub\n",
    "# !pip install openpyxl"
   ]
  },
  {
   "cell_type": "code",
   "execution_count": 22,
   "metadata": {},
   "outputs": [],
   "source": [
    "import xml.etree.ElementTree as ET\n",
    "import kagglehub\n",
    "import os\n",
    "import pandas as pd"
   ]
  },
  {
   "cell_type": "markdown",
   "metadata": {},
   "source": [
    "<a id='step01'></a>\n",
    "### **Data Loading**"
   ]
  },
  {
   "cell_type": "code",
   "execution_count": 23,
   "metadata": {},
   "outputs": [],
   "source": [
    "path_to_dataset = \"content\"\n",
    "\"\"\"\n",
    "If the dataset is not downloaded to your local machine you can use the following\n",
    "commented command:\n",
    "\"\"\"\n",
    "# path_to_dataset = kagglehub.dataset_download(\"andrewmvd/car-plate-detection\")\n",
    "\n",
    "annotation_folder = os.path.join(path_to_dataset, \"annotations\")\n",
    "image_folder = os.path.join(path_to_dataset, \"images\")"
   ]
  },
  {
   "cell_type": "markdown",
   "metadata": {},
   "source": [
    "<a id='step02'></a>\n",
    "### **Data Parsing & Cleaning**"
   ]
  },
  {
   "cell_type": "code",
   "execution_count": 28,
   "metadata": {},
   "outputs": [],
   "source": [
    "def parse_xml(xml_path):\n",
    "    tree = ET.parse(xml_path)\n",
    "    root = tree.getroot()\n",
    "    \n",
    "    size = {\n",
    "        'width': root.find('size/width').text,\n",
    "        'height': root.find('size/height').text\n",
    "    }\n",
    "        \n",
    "    objects = [{\n",
    "            'bndbox': {\n",
    "                'xmin': object.find('bndbox/xmin').text,\n",
    "                'ymin': object.find('bndbox/ymin').text,\n",
    "                'xmax': object.find('bndbox/xmax').text,\n",
    "                'ymax': object.find('bndbox/ymax').text,\n",
    "            }\n",
    "        } for object in root.findall('object')]\n",
    "           \n",
    "    extracted_info = {\n",
    "        'folder': root.find('folder').text,\n",
    "        'filename': root.find('filename').text,\n",
    "        'size': size,\n",
    "        'objects': objects\n",
    "    }\n",
    "    \n",
    "    return extracted_info \n"
   ]
  },
  {
   "cell_type": "markdown",
   "metadata": {},
   "source": [
    "<a id='step03'></a>\n",
    "### **Data Flattening**"
   ]
  },
  {
   "cell_type": "code",
   "execution_count": 29,
   "metadata": {},
   "outputs": [],
   "source": [
    "records = []\n",
    "for file in os.listdir(annotation_folder):\n",
    "    if file.endswith(\".xml\"):\n",
    "        data = parse_xml(os.path.join(annotation_folder, file))\n",
    "        for obj in data[\"objects\"]:\n",
    "            row = {\n",
    "                \"filename\": data[\"filename\"],\n",
    "                \"folder\": data[\"folder\"],\n",
    "                \"width\": int(data[\"size\"][\"width\"]),\n",
    "                \"height\": int(data[\"size\"][\"height\"]),\n",
    "                \"xmin\": int(obj[\"bndbox\"][\"xmin\"]),\n",
    "                \"ymin\": int(obj[\"bndbox\"][\"ymin\"]),\n",
    "                \"xmax\": int(obj[\"bndbox\"][\"xmax\"]),\n",
    "                \"ymax\": int(obj[\"bndbox\"][\"ymax\"])\n",
    "            }\n",
    "            records.append(row)\n"
   ]
  },
  {
   "cell_type": "markdown",
   "metadata": {},
   "source": [
    "<a id='step04'></a>\n",
    "### **Exporting Data to Excel**"
   ]
  },
  {
   "cell_type": "code",
   "execution_count": 30,
   "metadata": {},
   "outputs": [
    {
     "name": "stdout",
     "output_type": "stream",
     "text": [
      "Data exported successfully to car_plate_annotations.xlsx\n"
     ]
    }
   ],
   "source": [
    "df = pd.DataFrame(records)\n",
    "excel_path = \"car_plate_annotations.xlsx\"\n",
    "df.to_excel(excel_path, index=False)\n",
    "\n",
    "print(f\"Data exported successfully to {excel_path}\")"
   ]
  },
  {
   "cell_type": "markdown",
   "metadata": {},
   "source": [
    "<a id='phase2'></a>\n",
    "## **Phase 2 - Data Storage and Processing Pipeline**"
   ]
  },
  {
   "cell_type": "markdown",
   "metadata": {},
   "source": [
    "<a id='phase3'></a>\n",
    "## **Phase 3 - Final Conclusions and Model Development**"
   ]
  }
 ],
 "metadata": {
  "kernelspec": {
   "display_name": "Python 3",
   "language": "python",
   "name": "python3"
  },
  "language_info": {
   "codemirror_mode": {
    "name": "ipython",
    "version": 3
   },
   "file_extension": ".py",
   "mimetype": "text/x-python",
   "name": "python",
   "nbconvert_exporter": "python",
   "pygments_lexer": "ipython3",
   "version": "3.12.9"
  },
  "orig_nbformat": 4
 },
 "nbformat": 4,
 "nbformat_minor": 2
}
