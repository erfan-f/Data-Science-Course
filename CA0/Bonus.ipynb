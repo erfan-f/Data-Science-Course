{
 "cells": [
  {
   "cell_type": "markdown",
   "metadata": {},
   "source": [
    "**<span style=\"color: #808080;\">In The Name of God</span>**\n",
    "\n",
    "---\n",
    "\n",
    "**<span style=\"color: #808080;\">Erfan Falahati</span>**\n",
    "\n",
    "**<span style=\"color: #808080;\">SID:</span> <span style=\"color: #808080;\">810102491</span>**\n",
    "\n",
    "# <span style=\"color: #20B2AA;\">Bonus</span>"
   ]
  },
  {
   "cell_type": "markdown",
   "metadata": {},
   "source": [
    "1. To estimate the average of the 100 pressure measurements and give ourselves some room for error in the estimate.  \n",
    "2. **To estimate the true average pressure of the pipeline and give ourselves some room for error in the estimate.** ✅  \n",
    "3. To provide a range in which 95 of the 100 pressure measurements are likely to have fallen.  \n",
    "4. To provide a range in which 95% of all possible pressure measurements are likely to fall.  \n",
    "\n",
    "### <font color=\"#20B2AA\">Explanation:</font>\n",
    "\n",
    "❌<font color=\"#FF0000\"> option 1:</font>\n",
    "\n",
    "- This option is incorrect because, with a sample size of 100, we can determine the sample mean, and there is no need for a confidence interval to estimate it.\n",
    "\n",
    "✅<font color=\"#20B2AA\"> option 2:</font>\n",
    "\n",
    "- The parameter μ represents the **true average pressure** of the pipeline. The purpose of constructing a confidence interval is to estimate this unknown true average pressure (μ) using the sample data (X₁, X₂, …, Xₙ)\n",
    "\n",
    "- A 95% confidence interval provides a range of values within which we are 95% confident that the true average pressure (\n",
    "μ\n",
    "μ) lies\n",
    "\n",
    "❌<font color=\"#FF0000\"> option 3:</font>\n",
    "\n",
    "- The confidence interval will not represent the range of individual data, but rather indicate the range of the true mean for the pressure.\n",
    "\n",
    "❌<font color=\"#FF0000\"> option 4:</font>\n",
    "\n",
    "- This is incorrect because a confidence interval does not predict the range of individual observations. Instead, it predicts the range for the true mean pressure (μ)"
   ]
  }
 ],
 "metadata": {
  "language_info": {
   "name": "python"
  }
 },
 "nbformat": 4,
 "nbformat_minor": 2
}
