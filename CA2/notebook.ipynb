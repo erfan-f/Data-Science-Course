{
 "cells": [
  {
   "cell_type": "markdown",
   "metadata": {},
   "source": [
    "**<span style=\"color: #99CCFF;\">In The Name of God</span>**\n",
    "\n",
    "---\n",
    "\n",
    "# **<span style=\"color: #3D74AB;\">Assignment 2</span>**\n",
    "\n",
    "- **Parsa Bukani - 810102---**\n",
    "- **Mani Hosseini - 810102---**\n",
    "- **Erfan Falahati - 810102491**"
   ]
  },
  {
   "cell_type": "code",
   "execution_count": 7,
   "metadata": {},
   "outputs": [
    {
     "data": {
      "text/html": [
       "<style>pre { white-space: pre !important; }</style>"
      ],
      "text/plain": [
       "<IPython.core.display.HTML object>"
      ]
     },
     "metadata": {},
     "output_type": "display_data"
    }
   ],
   "source": [
    "from IPython.display import display, HTML\n",
    "display(HTML('<style>pre { white-space: pre !important; }</style>'))"
   ]
  },
  {
   "cell_type": "markdown",
   "metadata": {},
   "source": [
    "# <span style=\"color: coral;\">Data Ingestion Layer</span>"
   ]
  },
  {
   "cell_type": "markdown",
   "metadata": {},
   "source": [
    "## <span style=\"color: white;\">Kafka Consumer Implementation</span>\n",
    "\n",
    "**[Kafka Producer](producer.py)**\n",
    "\n",
    "**[Kafka Consumer](consumer.py)**\n"
   ]
  },
  {
   "cell_type": "markdown",
   "metadata": {},
   "source": [
    "## <span style=\"color: white;\">Schema Management</span>\n",
    "**<span style=\"color: #99CCFF;\">The transaction data is stored in JSON by [Kafka Consumer](consumer.py) for subsequent insertion into MongoDB collections.</span>**"
   ]
  },
  {
   "cell_type": "markdown",
   "metadata": {},
   "source": [
    "# <span style=\"color: coral;\">Batch Processing Layer</span>"
   ]
  },
  {
   "cell_type": "markdown",
   "metadata": {},
   "source": [
    "## <span style=\"color: white;\">Commission Analysis Batch Job</span>\n"
   ]
  },
  {
   "cell_type": "code",
   "execution_count": 8,
   "metadata": {},
   "outputs": [
    {
     "name": "stderr",
     "output_type": "stream",
     "text": [
      "Setting default log level to \"WARN\".\n",
      "To adjust logging level use sc.setLogLevel(newLevel). For SparkR, use setLogLevel(newLevel).\n",
      "25/04/28 09:42:21 WARN NativeCodeLoader: Unable to load native-hadoop library for your platform... using builtin-java classes where applicable\n",
      "                                                                                \r"
     ]
    },
    {
     "name": "stdout",
     "output_type": "stream",
     "text": [
      "+-------+-----------------+---------------+-----------+-------------+--------------------+---------------+------------------+------------------+-----------------+-----------+--------------+----------+--------+--------------------+------------+--------------------+----------+\n",
      "| amount|commission_amount|commission_type|customer_id|customer_type|         device_info| failure_reason|               lat|               lng|merchant_category|merchant_id|payment_method|risk_level|  status|           timestamp|total_amount|      transaction_id|vat_amount|\n",
      "+-------+-----------------+---------------+-----------+-------------+--------------------+---------------+------------------+------------------+-----------------+-----------+--------------+----------+--------+--------------------+------------+--------------------+----------+\n",
      "| 467107|             9342|         tiered|   cust_300|   individual|  {NULL, NULL, NULL}|           None| 35.72415782820759| 51.32932981896976|           retail|    merch_8|           pos|         3|approved|2025-04-27T13:37:...|      518488|521aef2c-bb45-48c...|     42039|\n",
      "| 481825|             9636|           flat|   cust_800|     business|  {NULL, NULL, NULL}|           None|  35.7678122593537| 51.36256111314462|           retail|   merch_38|           nfc|         3|approved|2025-04-26T16:33:...|      534825|ddeffb92-47a6-4de...|     43364|\n",
      "|1367837|            27356|           flat|   cust_517|  CIfunctionP|  {NULL, NULL, NULL}|           None|35.676648640645595| 51.33288321887653|     food_service|   merch_40|           pos|         2|approved|2025-04-26T15:13:...|     1518298|2963a8f4-9c56-404...|    123105|\n",
      "|1611220|            32224|    progressive|   cust_652|   individual|{3.1.0, iPhone 15...|           None| 35.73045487615735| 51.31797165527725|   transportation|   merch_21|        online|         2|approved|2025-04-26T20:02:...|     1788453|08052f40-36be-41b...|    145009|\n",
      "| 646283|            12925|           flat|   cust_181|     business|  {NULL, NULL, NULL}|           None| 35.76229926291754|51.373518017621365|     food_service|    merch_9|           pos|         3|approved|2025-04-27T10:48:...|      717373|2e3f5c10-2f53-43a...|     58165|\n",
      "|1686846|            33736|    progressive|   cust_395|     business|  {NULL, NULL, NULL}|           None| 35.71273396250606| 51.33830987299794|    entertainment|   merch_21|           nfc|         1|approved|2025-04-27T09:51:...|     1872398|c3867987-4162-4c1...|    151816|\n",
      "| 702676|            14053|         tiered|   cust_375|  CIfunctionP|  {NULL, NULL, NULL}|           None| 35.76614496240003|  51.3219344646991|     food_service|    merch_2|           nfc|         3|approved|2025-04-26T17:30:...|      779969|9a963e56-9875-4b6...|     63240|\n",
      "| 882383|            17647|    progressive|   cust_921|  CIfunctionP|  {NULL, NULL, NULL}|           None| 35.72484550513018|51.298062296069325|    entertainment|   merch_24|           nfc|         1|approved|2025-04-27T07:00:...|      979444|f5c2fc02-d83f-423...|     79414|\n",
      "| 499569|             9991|         tiered|   cust_391|     business|{2.4.1, Samsung G...|           None| 35.71659138697581| 51.30890179503377|   transportation|   merch_25|        mobile|         2|approved|2025-04-27T05:42:...|      554521|3dbae82a-e436-4c2...|     44961|\n",
      "|1914823|            38296|         tiered|   cust_580|     business|{1.9.5, Google Pi...|           None|35.746143224772624| 51.30114119344009|    entertainment|    merch_7|        online|         1|approved|2025-04-26T14:56:...|     2125453|0fbdda09-d8df-403...|    172334|\n",
      "| 678492|            13569|         tiered|   cust_260|   individual|  {NULL, NULL, NULL}|           None| 35.76805130290095| 51.36619954447277|   transportation|   merch_25|           nfc|         1|approved|2025-04-27T06:48:...|      753125|d2a0a91a-15cd-4d8...|     61064|\n",
      "|1054299|            21085|           flat|   cust_290|  CIfunctionP|  {NULL, NULL, NULL}|           None|35.739222032080114| 51.37033810264011|   transportation|   merch_22|           pos|         3|approved|2025-04-27T11:39:...|     1170270|25ebdfcc-eed6-495...|     94886|\n",
      "| 666013|            13320|    progressive|   cust_506|   individual|  {NULL, NULL, NULL}|fraud_prevented| 35.69364500781136| 51.34166721740405|       government|    merch_5|           pos|         2|declined|2025-04-27T00:54:...|      739274|ac3cfbae-f43a-409...|     59941|\n",
      "| 140417|             2808|           flat|     cust_6|   individual|  {NULL, NULL, NULL}|           None|35.674111820721436| 51.28536218670154|           retail|   merch_25|           pos|         2|approved|2025-04-26T17:16:...|      155862|93599c8b-298a-456...|     12637|\n",
      "| 297148|             5942|         tiered|   cust_876|     business|{2.4.1, Samsung G...|           None| 35.76015701876004| 51.37674305093205|       government|   merch_44|        online|         3|approved|2025-04-26T21:16:...|      329833|aec8eb0e-7ce4-4ef...|     26743|\n",
      "|1598830|            31976|    progressive|   cust_147|     business|{3.1.0, iPhone 15...|           None| 35.76797607396347|  51.3526022220511|           retail|   merch_25|        mobile|         3|approved|2025-04-27T10:25:...|     1774700|0af4e9df-42fa-4f8...|    143894|\n",
      "|1804537|            36090|    progressive|   cust_168|     business|{3.1.0, iPhone 15...|           None| 35.72967496887646| 51.34192579589365|     food_service|   merch_21|        online|         3|approved|2025-04-27T08:38:...|     2003035|a33d66ef-7582-4e3...|    162408|\n",
      "|  93401|             1868|           flat|   cust_187|  CIfunctionP|  {NULL, NULL, NULL}|           None| 35.73313368709159| 51.35022487105372|    entertainment|   merch_41|           pos|         1|approved|2025-04-27T06:37:...|      103675|69b39587-99cf-400...|      8406|\n",
      "| 601480|            12029|         tiered|   cust_208|  CIfunctionP|  {NULL, NULL, NULL}|           None| 35.71422616793361|  51.3145102132246|   transportation|   merch_17|           nfc|         1|approved|2025-04-26T16:15:...|      667642|62e1aae7-011f-420...|     54133|\n",
      "| 898780|            17975|           flat|   cust_852|     business|  {NULL, NULL, NULL}|           None|35.677507423391425| 51.36864984566588|   transportation|   merch_39|           nfc|         3|approved|2025-04-27T10:16:...|      997645|c86e697b-6ba9-4ae...|     80890|\n",
      "+-------+-----------------+---------------+-----------+-------------+--------------------+---------------+------------------+------------------+-----------------+-----------+--------------+----------+--------+--------------------+------------+--------------------+----------+\n",
      "only showing top 20 rows\n",
      "\n"
     ]
    }
   ],
   "source": [
    "from pyspark.sql import SparkSession\n",
    "\n",
    "\n",
    "spark = SparkSession.builder.appName(\"darooghe\").getOrCreate()\n",
    "\n",
    "df = spark.read.json('content/validated_transactions.json')\n",
    "df.show()"
   ]
  },
  {
   "cell_type": "markdown",
   "metadata": {},
   "source": [
    "### <span style=\"color: #99CCFF;\">Part I</span>\n"
   ]
  },
  {
   "cell_type": "code",
   "execution_count": 9,
   "metadata": {},
   "outputs": [
    {
     "name": "stderr",
     "output_type": "stream",
     "text": [
      "25/04/28 09:42:34 WARN GarbageCollectionMetrics: To enable non-built-in garbage collector(s) List(G1 Concurrent GC), users should configure it(them) to spark.eventLog.gcMetrics.youngGenerationGarbageCollectors or spark.eventLog.gcMetrics.oldGenerationGarbageCollectors\n",
      "[Stage 2:>                                                          (0 + 2) / 2]\r"
     ]
    },
    {
     "name": "stdout",
     "output_type": "stream",
     "text": [
      "+-----------------+----------------+------------------+-----------------+------------------------+----------+-----------------+------------+-------------------------------+\n",
      "|merchant_category|total_commission|    avg_commission|transaction_count|total_transaction_amount|flat_count|progressive_count|tiered_count|commission_to_transaction_ratio|\n",
      "+-----------------+----------------+------------------+-----------------+------------------------+----------+-----------------+------------+-------------------------------+\n",
      "|           retail|        52042054| 20569.98181818182|             2530|              2602163237|       841|              827|         862|           0.019999534717890566|\n",
      "|    entertainment|        50330911|20434.799431587497|             2463|              2516604790|       823|              827|         813|           0.019999529206967775|\n",
      "|     food_service|        53153979|20738.969566913773|             2563|              2657761718|       840|              837|         886|           0.019999527662697712|\n",
      "|       government|        50374478|20238.842105263157|             2489|              2518783991|       800|              815|         874|            0.01999952285705948|\n",
      "|   transportation|        51601942| 20436.41267326733|             2525|              2580159979|       870|              804|         851|           0.019999512596114103|\n",
      "+-----------------+----------------+------------------+-----------------+------------------------+----------+-----------------+------------+-------------------------------+\n",
      "\n"
     ]
    },
    {
     "name": "stderr",
     "output_type": "stream",
     "text": [
      "                                                                                \r"
     ]
    }
   ],
   "source": [
    "from pyspark.sql.functions import sum, avg, count, col, when\n",
    "\n",
    "\n",
    "filtered_df = df.filter(df[\"status\"] == \"approved\")\n",
    "\n",
    "commission_analysis_df = filtered_df.select(\n",
    "    \"transaction_id\",\n",
    "    \"commission_type\",\n",
    "    \"merchant_category\",\n",
    "    \"commission_amount\",\n",
    "    \"total_amount\",\n",
    "    \"amount\"\n",
    ")\n",
    "\n",
    "\n",
    "commission_analysis_df = commission_analysis_df.groupBy(\"merchant_category\").agg(\n",
    "    sum(\"commission_amount\").alias(\"total_commission\"),\n",
    "    avg(\"commission_amount\").alias(\"avg_commission\"),\n",
    "    count(\"*\").alias(\"transaction_count\"),\n",
    "    sum(\"amount\").alias(\"total_transaction_amount\"),\n",
    "    count(when(col(\"commission_type\") == \"flat\", 1)).alias(\"flat_count\"),\n",
    "    count(when(col(\"commission_type\") == \"progressive\", 1)).alias(\"progressive_count\"),\n",
    "    count(when(col(\"commission_type\") == \"tiered\", 1)).alias(\"tiered_count\"),\n",
    ")\n",
    "\n",
    "commission_analysis_df = commission_analysis_df.withColumn(\n",
    "    \"commission_to_transaction_ratio\", \n",
    "    col(\"total_commission\") / col(\"total_transaction_amount\")\n",
    ")\n",
    "commission_analysis_df.show()"
   ]
  },
  {
   "cell_type": "markdown",
   "metadata": {},
   "source": [
    "### <span style=\"color: #99CCFF;\">Part II</span>\n",
    "\n",
    "- Commission-to-Transaction Ratio: The commission-to-transaction ratio is relatively consistent across all categories, with values ranging between 0.0199995 and 0.0200. This suggests that the commission percentage, in relation to the transaction amount, does not vary significantly across these merchant categories\n",
    "\n",
    "- Average Commission: The average commission amount, however, shows more significant differences between the categories\n",
    "\n",
    "Thus, merchants in the **food_service** and **retail** sectors are performing best in terms of overall commission earned, though the commission-to-transaction ratio is fairly consistent across all categories"
   ]
  },
  {
   "cell_type": "code",
   "execution_count": 10,
   "metadata": {},
   "outputs": [
    {
     "name": "stdout",
     "output_type": "stream",
     "text": [
      "Category: food_service, Commission-to-Transaction Ratio: 0.019999527662697712, Average Commission: 20738.969566913773\n",
      "Category: retail, Commission-to-Transaction Ratio: 0.019999534717890566, Average Commission: 20569.98181818182\n",
      "Category: transportation, Commission-to-Transaction Ratio: 0.019999512596114103, Average Commission: 20436.41267326733\n",
      "Category: entertainment, Commission-to-Transaction Ratio: 0.019999529206967775, Average Commission: 20434.799431587497\n",
      "Category: government, Commission-to-Transaction Ratio: 0.01999952285705948, Average Commission: 20238.842105263157\n"
     ]
    }
   ],
   "source": [
    "data = [(row[\"merchant_category\"], row[\"commission_to_transaction_ratio\"], row[\"avg_commission\"]) for row in commission_analysis_df.select(\n",
    "    \"merchant_category\", \n",
    "    \"commission_to_transaction_ratio\", \n",
    "    \"avg_commission\"\n",
    ").collect()]\n",
    "\n",
    "sorted_data = sorted(data, key=lambda x: x[2], reverse=True)\n",
    "\n",
    "for category, ratio, avg in sorted_data:\n",
    "    print(f\"Category: {category}, Commission-to-Transaction Ratio: {ratio}, Average Commission: {avg}\")\n"
   ]
  },
  {
   "cell_type": "markdown",
   "metadata": {},
   "source": [
    "## <span style=\"color: white;\">Transaction Pattern Analysis </span>\n"
   ]
  },
  {
   "cell_type": "markdown",
   "metadata": {},
   "source": [
    "### <span style=\"color: #99CCFF;\">Part I</span>"
   ]
  },
  {
   "cell_type": "code",
   "execution_count": 11,
   "metadata": {},
   "outputs": [
    {
     "name": "stderr",
     "output_type": "stream",
     "text": [
      "[Stage 8:=============================>                             (1 + 1) / 2]\r"
     ]
    },
    {
     "name": "stdout",
     "output_type": "stream",
     "text": [
      "+----+-----------------+\n",
      "|hour|transaction_count|\n",
      "+----+-----------------+\n",
      "|  18|             4587|\n",
      "|  17|             3066|\n",
      "|   8|              246|\n",
      "|  12|              245|\n",
      "|   1|              242|\n",
      "|  21|              242|\n",
      "|  13|              234|\n",
      "|  16|              231|\n",
      "|  10|              231|\n",
      "|   4|              229|\n",
      "|  23|              227|\n",
      "|   0|              227|\n",
      "|   7|              226|\n",
      "|   9|              225|\n",
      "|  20|              223|\n",
      "|  11|              222|\n",
      "|   5|              219|\n",
      "|   2|              214|\n",
      "|  15|              211|\n",
      "|   6|              209|\n",
      "+----+-----------------+\n",
      "only showing top 20 rows\n",
      "\n"
     ]
    },
    {
     "name": "stderr",
     "output_type": "stream",
     "text": [
      "                                                                                \r"
     ]
    }
   ],
   "source": [
    "from pyspark.sql.functions import hour, count, minute\n",
    "\n",
    "filtered_df = filtered_df.withColumn(\"hour\", hour(col(\"timestamp\")))\n",
    "\n",
    "temporal_pattern_df = filtered_df.groupBy(\"hour\").agg(\n",
    "    count(\"*\").alias(\"transaction_count\")\n",
    ")\n",
    "\n",
    "temporal_pattern_df.sort(col(\"transaction_count\").desc()).show()\n"
   ]
  },
  {
   "cell_type": "markdown",
   "metadata": {},
   "source": [
    "### <span style=\"color: #99CCFF;\">Part II</span>"
   ]
  },
  {
   "cell_type": "code",
   "execution_count": 12,
   "metadata": {},
   "outputs": [
    {
     "name": "stdout",
     "output_type": "stream",
     "text": [
      "+----+-----------------+\n",
      "|hour|transaction_count|\n",
      "+----+-----------------+\n",
      "|  18|             4587|\n",
      "|  17|             3066|\n",
      "|   8|              246|\n",
      "+----+-----------------+\n",
      "only showing top 3 rows\n",
      "\n"
     ]
    }
   ],
   "source": [
    "peak_time_df = temporal_pattern_df.orderBy(col(\"transaction_count\").desc())\n",
    "peak_time_df.show(3)"
   ]
  },
  {
   "cell_type": "markdown",
   "metadata": {},
   "source": [
    "### <span style=\"color: #99CCFF;\">Part III</span>"
   ]
  },
  {
   "cell_type": "code",
   "execution_count": 13,
   "metadata": {},
   "outputs": [
    {
     "name": "stdout",
     "output_type": "stream",
     "text": [
      "+-----------+-----------------+-----------+\n",
      "|customer_id|transaction_count|total_spent|\n",
      "+-----------+-----------------+-----------+\n",
      "|   cust_960|               23|   26153310|\n",
      "|   cust_304|               19|   24827089|\n",
      "|   cust_565|               21|   23888743|\n",
      "|   cust_761|               22|   23872722|\n",
      "|   cust_224|               22|   23794858|\n",
      "|   cust_722|               21|   23692208|\n",
      "|   cust_192|               20|   23468295|\n",
      "|   cust_903|               24|   23345230|\n",
      "|   cust_456|               19|   23220546|\n",
      "|    cust_67|               17|   23101572|\n",
      "|   cust_361|               20|   23004501|\n",
      "|   cust_396|               21|   22874506|\n",
      "|    cust_38|               20|   22843633|\n",
      "|    cust_68|               19|   22823953|\n",
      "|   cust_225|               18|   22759054|\n",
      "|   cust_558|               23|   22748633|\n",
      "|   cust_164|               20|   22731819|\n",
      "|   cust_972|               24|   22284702|\n",
      "|   cust_594|               20|   22248840|\n",
      "|   cust_452|               16|   22238142|\n",
      "+-----------+-----------------+-----------+\n",
      "only showing top 20 rows\n",
      "\n"
     ]
    }
   ],
   "source": [
    "customer_segment_df = filtered_df.groupBy(\"customer_id\").agg(\n",
    "    count(\"*\").alias(\"transaction_count\"),\n",
    "    sum(\"amount\").alias(\"total_spent\")\n",
    ")\n",
    "customer_segment_df.sort(col(\"total_spent\").desc()).show()"
   ]
  },
  {
   "cell_type": "markdown",
   "metadata": {},
   "source": [
    "### <span style=\"color: #99CCFF;\">Part IV</span>"
   ]
  },
  {
   "cell_type": "code",
   "execution_count": 14,
   "metadata": {},
   "outputs": [
    {
     "name": "stdout",
     "output_type": "stream",
     "text": [
      "+-----------------+-----------------+-----------+\n",
      "|merchant_category|transaction_count|total_sales|\n",
      "+-----------------+-----------------+-----------+\n",
      "|     food_service|             2563| 2657761718|\n",
      "|           retail|             2530| 2602163237|\n",
      "|   transportation|             2525| 2580159979|\n",
      "|       government|             2489| 2518783991|\n",
      "|    entertainment|             2463| 2516604790|\n",
      "+-----------------+-----------------+-----------+\n",
      "\n"
     ]
    }
   ],
   "source": [
    "merchant_behavior_df = filtered_df.groupBy(\"merchant_category\").agg(\n",
    "    count(\"*\").alias(\"transaction_count\"),\n",
    "    sum(\"amount\").alias(\"total_sales\")\n",
    ")\n",
    "\n",
    "merchant_behavior_df.sort(col(\"transaction_count\").desc()).show()"
   ]
  },
  {
   "cell_type": "markdown",
   "metadata": {},
   "source": [
    "### <span style=\"color: #99CCFF;\">Part V</span>"
   ]
  },
  {
   "cell_type": "code",
   "execution_count": 15,
   "metadata": {},
   "outputs": [
    {
     "name": "stdout",
     "output_type": "stream",
     "text": [
      "+-----------+-----------------+\n",
      "|time_of_day|transaction_count|\n",
      "+-----------+-----------------+\n",
      "|    Evening|             5683|\n",
      "|    Morning|             1359|\n",
      "|  Afternoon|             4188|\n",
      "|      Night|             1340|\n",
      "+-----------+-----------------+\n",
      "\n"
     ]
    }
   ],
   "source": [
    "from pyspark.sql.functions import when\n",
    "\n",
    "filtered_df = filtered_df.withColumn(\n",
    "    \"time_of_day\",\n",
    "    when((col(\"hour\") >= 6) & (col(\"hour\") < 12), \"Morning\")\n",
    "    .when((col(\"hour\") >= 12) & (col(\"hour\") < 18), \"Afternoon\")\n",
    "    .when((col(\"hour\") >= 18) & (col(\"hour\") < 24), \"Evening\")\n",
    "    .otherwise(\"Night\")\n",
    ")\n",
    "\n",
    "time_of_day_df = filtered_df.groupBy(\"time_of_day\").agg(\n",
    "    count(\"*\").alias(\"transaction_count\")\n",
    ")\n",
    "\n",
    "time_of_day_df.show()\n"
   ]
  },
  {
   "cell_type": "markdown",
   "metadata": {},
   "source": [
    "### <span style=\"color: #99CCFF;\">Part VI</span>"
   ]
  },
  {
   "cell_type": "code",
   "execution_count": 16,
   "metadata": {},
   "outputs": [
    {
     "name": "stdout",
     "output_type": "stream",
     "text": [
      "+----+------+-----------+\n",
      "|hour|minute|total_spent|\n",
      "+----+------+-----------+\n",
      "|  18|    10|  284197106|\n",
      "|  18|     1|  280163593|\n",
      "|  18|     5|  273873810|\n",
      "|  17|    57|  272125245|\n",
      "|  18|     8|  271877313|\n",
      "|  18|    14|  265617938|\n",
      "|  17|    59|  263711329|\n",
      "|  18|    17|  262944862|\n",
      "|  18|     6|  262672565|\n",
      "|  17|    54|  261078688|\n",
      "|  17|    49|  256030382|\n",
      "|  17|    51|  255837194|\n",
      "|  18|     3|  253492670|\n",
      "|  18|     9|  253299909|\n",
      "|  17|    56|  252730046|\n",
      "|  18|    12|  249074881|\n",
      "|  17|    55|  246432877|\n",
      "|  17|    50|  245083044|\n",
      "|  18|    11|  243754715|\n",
      "|  18|    15|  242012373|\n",
      "+----+------+-----------+\n",
      "only showing top 20 rows\n",
      "\n"
     ]
    }
   ],
   "source": [
    "\n",
    "filtered_df = filtered_df.withColumn(\"hour\", hour(col(\"timestamp\")))\n",
    "filtered_df = filtered_df.withColumn(\"minute\", minute(col(\"timestamp\")))\n",
    "\n",
    "spending_trend_df = filtered_df.groupBy(\"hour\", \"minute\").agg(\n",
    "    sum(\"amount\").alias(\"total_spent\")\n",
    ").orderBy(\"hour\", \"minute\")\n",
    "\n",
    "spending_trend_df.sort(col(\"total_spent\").desc()).show()\n"
   ]
  },
  {
   "cell_type": "markdown",
   "metadata": {},
   "source": [
    "## <span style=\"color: white;\">Data Storage Implementation</span>\n"
   ]
  },
  {
   "cell_type": "markdown",
   "metadata": {},
   "source": [
    "### <span style=\"color: #99CCFF;\">Part I</span>"
   ]
  },
  {
   "cell_type": "code",
   "execution_count": 17,
   "metadata": {},
   "outputs": [
    {
     "name": "stderr",
     "output_type": "stream",
     "text": [
      "/tmp/ipykernel_5480/1018307240.py:34: DeprecationWarning: datetime.datetime.utcnow() is deprecated and scheduled for removal in a future version. Use timezone-aware objects to represent datetimes in UTC: datetime.datetime.now(datetime.UTC).\n",
      "  \"createdAt\": datetime.utcnow(),\n"
     ]
    }
   ],
   "source": [
    "from pymongo import MongoClient\n",
    "from datetime import datetime\n",
    "\n",
    "client = MongoClient(\"mongodb://localhost:27017/\")\n",
    "db = client['daroogheDB']\n",
    "db.drop_collection('transactions')\n",
    "transactions_collection = db['transactions']\n",
    "\n",
    "\n",
    "rows = df.filter(df[\"status\"] == \"approved\").collect()\n",
    "\n",
    "\n",
    "documents = []\n",
    "for row in rows:\n",
    "    transaction = {\n",
    "        \"id\": row['transaction_id'],\n",
    "        \"timestamp\": datetime.fromisoformat(row['timestamp']),\n",
    "        \"customer_id\": row['customer_id'],\n",
    "        \"merchant_id\": row['merchant_id'],\n",
    "        \"lat\": row['lat'],\n",
    "        \"long\": row['lng'],\n",
    "        \"merchant_category\": row['merchant_category'],\n",
    "        \"amount\": row['amount'],\n",
    "        \"vat_amount\": row['vat_amount'],\n",
    "        \"commission_type\": row[\"commission_type\"],\n",
    "        \"commission_amount\": row[\"commission_amount\"],\n",
    "        \"total_amount\": row[\"total_amount\"],\n",
    "        \"customer_type\": row[\"customer_type\"],\n",
    "        \"risk_level\": row[\"risk_level\"],\n",
    "        \"failure_reason\": row[\"failure_reason\"],\n",
    "        \"device_info\": row[\"device_info\"],\n",
    "        \"payment_method\": row[\"payment_method\"],\n",
    "        \"status\": row[\"status\"],\n",
    "        \"createdAt\": datetime.utcnow(),\n",
    "    }\n",
    "    documents.append(transaction)\n",
    "\n",
    "if documents:\n",
    "    transactions_collection.insert_many(documents)\n"
   ]
  },
  {
   "cell_type": "markdown",
   "metadata": {},
   "source": [
    "### <span style=\"color: #99CCFF;\">Part II</span>"
   ]
  },
  {
   "cell_type": "markdown",
   "metadata": {},
   "source": [
    "#### <font color=\"#3D74AB\">Create a TTL Index in MongoDB</font>"
   ]
  },
  {
   "cell_type": "code",
   "execution_count": 18,
   "metadata": {},
   "outputs": [
    {
     "name": "stdout",
     "output_type": "stream",
     "text": [
      "{'_id_': {'v': 2, 'key': [('_id', 1)]}, 'timestamp_1': {'v': 2, 'key': [('timestamp', 1)], 'expireAfterSeconds': 86400}}\n"
     ]
    }
   ],
   "source": [
    "transactions_collection.create_index([(\"timestamp\", 1)], expireAfterSeconds=86400)\n",
    "print(transactions_collection.index_information())"
   ]
  },
  {
   "cell_type": "markdown",
   "metadata": {},
   "source": [
    "### <span style=\"color: #99CCFF;\">Part III</span>"
   ]
  },
  {
   "cell_type": "markdown",
   "metadata": {},
   "source": [
    "#### <font color=\"#20B2AA\">Group by Merchant</font>"
   ]
  },
  {
   "cell_type": "code",
   "execution_count": 19,
   "metadata": {},
   "outputs": [
    {
     "name": "stdout",
     "output_type": "stream",
     "text": [
      "merchant_category\ttotal_sales\t\ttransaction_count\n",
      "food_service            2657761718              2563      \n",
      "retail                  2602163237              2530      \n",
      "transportation          2580159979              2525      \n",
      "government              2518783991              2489      \n",
      "entertainment           2516604790              2463      \n"
     ]
    }
   ],
   "source": [
    "pipeline = [\n",
    "    {\n",
    "        \"$group\": {\n",
    "            \"_id\": \"$merchant_category\",\n",
    "            \"total_sales\": { \"$sum\": \"$amount\" },\n",
    "            \"transaction_count\": { \"$count\": {} }\n",
    "        }\n",
    "    },\n",
    "    { \n",
    "        \"$sort\": { \"total_sales\": -1 }\n",
    "    }\n",
    "]\n",
    "\n",
    "result = transactions_collection.aggregate(pipeline)\n",
    "\n",
    "print(\"merchant_category\\ttotal_sales\\t\\ttransaction_count\")\n",
    "for record in result:\n",
    "    print(\n",
    "        f\"{record['_id'].ljust(24)}\"\n",
    "        f\"{str(record['total_sales']).ljust(24)}\"\n",
    "        f\"{str(record['transaction_count']).ljust(10)}\"\n",
    "    )"
   ]
  },
  {
   "cell_type": "markdown",
   "metadata": {},
   "source": [
    "#### <font color=\"#20B2AA\">Group by Customer Segment</font>"
   ]
  },
  {
   "cell_type": "code",
   "execution_count": 20,
   "metadata": {},
   "outputs": [
    {
     "name": "stdout",
     "output_type": "stream",
     "text": [
      "customer_type\t\ttotal_sales\t\ttransaction_count\n",
      "business                4411839808              4253      \n",
      "individual              4235542121              4178      \n",
      "CIfunctionP             4228091786              4139      \n"
     ]
    }
   ],
   "source": [
    "pipeline = [\n",
    "    {\n",
    "        \"$group\": {\n",
    "            \"_id\": \"$customer_type\",\n",
    "            \"total_sales\": { \"$sum\": \"$amount\" },\n",
    "            \"transaction_count\": { \"$count\": {} }\n",
    "        }\n",
    "    },\n",
    "    {\n",
    "        \"$sort\": { \"total_sales\": -1 } \n",
    "    }\n",
    "]\n",
    "\n",
    "result = transactions_collection.aggregate(pipeline)\n",
    "\n",
    "print(\"customer_type\\t\\ttotal_sales\\t\\ttransaction_count\")\n",
    "for record in result:\n",
    "    print(\n",
    "        f\"{record['_id'].ljust(24)}\"\n",
    "        f\"{str(record['total_sales']).ljust(24)}\"\n",
    "        f\"{str(record['transaction_count']).ljust(10)}\"\n",
    "    )"
   ]
  },
  {
   "cell_type": "markdown",
   "metadata": {},
   "source": [
    "### <font color=\"#3D74AB\">Summarized transaction data</font>"
   ]
  },
  {
   "cell_type": "code",
   "execution_count": 21,
   "metadata": {},
   "outputs": [
    {
     "name": "stdout",
     "output_type": "stream",
     "text": [
      "hour\t\t\ttotal_sales\ttransaction_count\n",
      " 00:00                  244493954               238       \n",
      " 01:00                  227326885               217       \n",
      " 02:00                  229379986               221       \n",
      " 03:00                  231740880               217       \n",
      " 04:00                  235535789               234       \n",
      " 05:00                  251446588               242       \n",
      " 06:00                  242791849               222       \n",
      " 07:00                  212350996               226       \n",
      " 08:00                  242524198               233       \n",
      " 09:00                  241015583               240       \n",
      " 10:00                  217213577               208       \n",
      " 11:00                  209528316               205       \n",
      " 12:00                  232098031               230       \n",
      " 13:00                  246346872               224       \n",
      " 14:00                  7593527417              7432      \n",
      " 15:00                  219327351               217       \n",
      " 16:00                  216237635               208       \n",
      " 17:00                  246662511               236       \n",
      " 18:00                  240810749               226       \n",
      " 19:00                  197961330               203       \n",
      " 20:00                  234403691               233       \n",
      " 21:00                  218473415               223       \n",
      " 22:00                  249995898               243       \n",
      " 23:00                  194280214               192       \n"
     ]
    }
   ],
   "source": [
    "pipeline = [\n",
    "    {\n",
    "        \"$project\": {\n",
    "            \"hour\": { \n",
    "                \"$dateToString\": { \n",
    "                    \"format\": \" %H:00\", \n",
    "                    \"date\": \"$timestamp\",\n",
    "                }\n",
    "            },\n",
    "            \"amount\": 1\n",
    "        }\n",
    "    },\n",
    "    {\n",
    "        \"$group\": {\n",
    "            \"_id\": \"$hour\", \n",
    "            \"total_sales\": { \"$sum\": \"$amount\" },\n",
    "            \"transaction_count\": { \"$count\": {} }\n",
    "        }\n",
    "    },\n",
    "    {\n",
    "        \"$sort\": { \"_id\": 1 }  \n",
    "    }\n",
    "]\n",
    "\n",
    "result = transactions_collection.aggregate(pipeline)\n",
    "\n",
    "print(\"hour\\t\\t\\ttotal_sales\\ttransaction_count\")\n",
    "for record in result:\n",
    "    print(\n",
    "        f\"{record['_id'].ljust(24)}\"\n",
    "        f\"{str(record['total_sales']).ljust(24)}\"\n",
    "        f\"{str(record['transaction_count']).ljust(10)}\"\n",
    "    )\n",
    "\n"
   ]
  },
  {
   "cell_type": "markdown",
   "metadata": {},
   "source": [
    "### <font color=\"#3D74AB\">Commission Reports</font>"
   ]
  },
  {
   "cell_type": "code",
   "execution_count": 22,
   "metadata": {},
   "outputs": [
    {
     "name": "stdout",
     "output_type": "stream",
     "text": [
      "hour\t\t\tmerchant_category\ttotal_commission\n",
      "00:00                   food_service            788195    \n",
      "00:00                   entertainment           1080771   \n",
      "00:00                   transportation          1041413   \n",
      "00:00                   retail                  919197    \n",
      "00:00                   government              1060187   \n",
      "01:00                   retail                  719015    \n",
      "01:00                   entertainment           891648    \n",
      "01:00                   food_service            680102    \n",
      "01:00                   transportation          1072658   \n",
      "01:00                   government              1183004   \n",
      "02:00                   food_service            666867    \n",
      "02:00                   government              1181896   \n",
      "02:00                   transportation          835978    \n",
      "02:00                   retail                  1010247   \n",
      "02:00                   entertainment           892509    \n",
      "03:00                   government              780638    \n",
      "03:00                   transportation          743904    \n",
      "03:00                   retail                  1088034   \n",
      "03:00                   food_service            951468    \n",
      "03:00                   entertainment           1070670   \n",
      "04:00                   transportation          963767    \n",
      "04:00                   entertainment           824906    \n",
      "04:00                   retail                  1010678   \n",
      "04:00                   food_service            1152757   \n",
      "04:00                   government              758491    \n",
      "05:00                   transportation          900119    \n",
      "05:00                   food_service            1112508   \n",
      "05:00                   retail                  1168059   \n",
      "05:00                   government              921386    \n",
      "05:00                   entertainment           926742    \n",
      "06:00                   retail                  767831    \n",
      "06:00                   transportation          907283    \n",
      "06:00                   entertainment           1065450   \n",
      "06:00                   food_service            1333787   \n",
      "06:00                   government              781379    \n",
      "07:00                   entertainment           893538    \n",
      "07:00                   transportation          663455    \n",
      "07:00                   food_service            890136    \n",
      "07:00                   retail                  1022136   \n",
      "07:00                   government              777650    \n",
      "08:00                   government              898471    \n",
      "08:00                   retail                  938402    \n",
      "08:00                   food_service            808881    \n",
      "08:00                   entertainment           1040768   \n",
      "08:00                   transportation          1163856   \n",
      "09:00                   entertainment           1017981   \n",
      "09:00                   transportation          1183578   \n",
      "09:00                   retail                  980270    \n",
      "09:00                   food_service            870313    \n",
      "09:00                   government              768054    \n",
      "10:00                   entertainment           996466    \n",
      "10:00                   food_service            805576    \n",
      "10:00                   government              720042    \n",
      "10:00                   retail                  957211    \n",
      "10:00                   transportation          864886    \n",
      "11:00                   transportation          635639    \n",
      "11:00                   retail                  699852    \n",
      "11:00                   government              1075050   \n",
      "11:00                   food_service            890012    \n",
      "11:00                   entertainment           889910    \n",
      "12:00                   government              875951    \n",
      "12:00                   transportation          942626    \n",
      "12:00                   retail                  963751    \n",
      "12:00                   food_service            1141549   \n",
      "12:00                   entertainment           717971    \n",
      "13:00                   food_service            888238    \n",
      "13:00                   transportation          1094301   \n",
      "13:00                   retail                  1178062   \n",
      "13:00                   entertainment           707876    \n",
      "13:00                   government              1058349   \n",
      "14:00                   entertainment           29683174  \n",
      "14:00                   transportation          30130594  \n",
      "14:00                   retail                  30066118  \n",
      "14:00                   food_service            32162991  \n",
      "14:00                   government              29824026  \n",
      "15:00                   entertainment           817165    \n",
      "15:00                   food_service            818377    \n",
      "15:00                   retail                  933909    \n",
      "15:00                   government              847564    \n",
      "15:00                   transportation          969427    \n",
      "16:00                   government              968650    \n",
      "16:00                   transportation          879643    \n",
      "16:00                   food_service            1057312   \n",
      "16:00                   retail                  642193    \n",
      "16:00                   entertainment           776850    \n",
      "17:00                   government              1035895   \n",
      "17:00                   food_service            783105    \n",
      "17:00                   transportation          830641    \n",
      "17:00                   retail                  1187674   \n",
      "17:00                   entertainment           1095822   \n",
      "18:00                   transportation          1134893   \n",
      "18:00                   retail                  986794    \n",
      "18:00                   food_service            987243    \n",
      "18:00                   entertainment           865524    \n",
      "18:00                   government              841651    \n",
      "19:00                   entertainment           847635    \n",
      "19:00                   food_service            829709    \n",
      "19:00                   retail                  897175    \n",
      "19:00                   transportation          627202    \n",
      "19:00                   government              757410    \n",
      "20:00                   food_service            942761    \n",
      "20:00                   entertainment           815654    \n",
      "20:00                   retail                  1007015   \n",
      "20:00                   transportation          803102    \n",
      "20:00                   government              1119437   \n",
      "21:00                   entertainment           865816    \n",
      "21:00                   food_service            828538    \n",
      "21:00                   retail                  977849    \n",
      "21:00                   government              557962    \n",
      "21:00                   transportation          1139198   \n",
      "22:00                   transportation          1143793   \n",
      "22:00                   entertainment           873360    \n",
      "22:00                   retail                  1124275   \n",
      "22:00                   food_service            1122725   \n",
      "22:00                   government              735647    \n",
      "23:00                   government              845688    \n",
      "23:00                   food_service            640829    \n",
      "23:00                   entertainment           672705    \n",
      "23:00                   retail                  796307    \n",
      "23:00                   transportation          929986    \n"
     ]
    }
   ],
   "source": [
    "pipeline = [\n",
    "    {\n",
    "        \"$project\": {\n",
    "            \"hour\": { \n",
    "                \"$dateToString\": { \n",
    "                    \"format\": \"%H:00\",\n",
    "                    \"date\": \"$timestamp\",\n",
    "                }\n",
    "            },\n",
    "            \"merchant_category\": 1,\n",
    "            \"commission_amount\": 1\n",
    "        }\n",
    "    },\n",
    "    {\n",
    "        \"$group\": {\n",
    "            \"_id\": { \n",
    "                \"merchant_category\": \"$merchant_category\", \n",
    "                \"hour\": \"$hour\" \n",
    "            },\n",
    "            \"total_commission\": { \"$sum\": \"$commission_amount\" }\n",
    "        }\n",
    "    },\n",
    "    {\n",
    "        \"$sort\": { \"_id.hour\": 1 } \n",
    "    }\n",
    "]\n",
    "\n",
    "result = transactions_collection.aggregate(pipeline)\n",
    "\n",
    "print(\"hour\\t\\t\\tmerchant_category\\ttotal_commission\")\n",
    "for record in result:\n",
    "    print(\n",
    "        f\"{record['_id']['hour'].ljust(24)}\"\n",
    "        f\"{record['_id']['merchant_category'].ljust(24)}\"\n",
    "        f\"{str(round(record['total_commission'], 2)).ljust(10)}\"\n",
    "    )\n",
    "\n"
   ]
  },
  {
   "cell_type": "markdown",
   "metadata": {},
   "source": [
    "# <span style=\"color: coral;\">Visualization</span>"
   ]
  },
  {
   "cell_type": "code",
   "execution_count": 23,
   "metadata": {},
   "outputs": [],
   "source": [
    "import pandas as pd\n",
    "\n",
    "client = MongoClient(\"mongodb://localhost:27017/\")\n",
    "db = client['daroogheDB']\n",
    "transactions_collection = db['transactions']\n",
    "\n",
    "transactions = list(transactions_collection.find())\n",
    "df = pd.DataFrame(transactions)\n"
   ]
  },
  {
   "cell_type": "markdown",
   "metadata": {},
   "source": [
    "## <span style=\"color: #99CCFF;\">Part I</span>\n",
    "#### <span style=\"color: #3D74AB;\">Transaction Volume Over Time</span>\n",
    "\n",
    "**The peak traffic for transactions occurs around 2:30 PM, and at other times, the number of transactions remains relatively stable.**\n"
   ]
  },
  {
   "cell_type": "code",
   "execution_count": 24,
   "metadata": {},
   "outputs": [
    {
     "data": {
      "image/png": "[encoded data removed]",
      "text/plain": [
       "<Figure size 1000x600 with 1 Axes>"
      ]
     },
     "metadata": {},
     "output_type": "display_data"
    }
   ],
   "source": [
    "import matplotlib.pyplot as plt\n",
    "\n",
    "volume_per_day = df.groupby(df['timestamp'].dt.hour).size()\n",
    "\n",
    "\n",
    "plt.figure(figsize=(10, 6))\n",
    "volume_per_day.plot(kind='line', label='Transactions', marker='o')\n",
    "plt.title('Transaction Volume Over Time')\n",
    "plt.xlabel('Hour')\n",
    "plt.xticks(range(0, 24))\n",
    "plt.ylabel('Number of Transactions')\n",
    "plt.legend(loc='upper left') \n",
    "plt.tight_layout()\n",
    "plt.show()\n",
    "\n"
   ]
  },
  {
   "cell_type": "markdown",
   "metadata": {},
   "source": [
    "## <span style=\"color: #99CCFF;\">Part II</span>\n",
    "### <span style=\"color: #3D74AB;\">Merchant Analysis</span>\n",
    "\n",
    "**According to the chart, the highest number of transactions performed by a user is approximately between 250 and 300 transactions.**"
   ]
  },
  {
   "cell_type": "code",
   "execution_count": 30,
   "metadata": {},
   "outputs": [
    {
     "data": {
      "image/png": "[encoded data removed]",
      "text/plain": [
       "<Figure size 1000x600 with 1 Axes>"
      ]
     },
     "metadata": {},
     "output_type": "display_data"
    }
   ],
   "source": [
    "top_merchants = df['merchant_id'].value_counts().head(5)\n",
    "\n",
    "plt.figure(figsize=(10, 6))\n",
    "top_merchants.plot(kind='bar', color='teal', label='Merchant Transaction Count')\n",
    "plt.title('Top 5 Merchants by Number of Transactions')\n",
    "plt.xlabel('Merchant ID')\n",
    "plt.ylabel('Number of Transactions')\n",
    "plt.legend(loc='upper right') \n",
    "plt.xticks(rotation=0)\n",
    "plt.grid(axis='y')\n",
    "plt.tight_layout()\n",
    "plt.show()\n"
   ]
  },
  {
   "cell_type": "markdown",
   "metadata": {},
   "source": [
    "## <span style=\"color: #99CCFF;\">Part III</span>\n",
    "### <span style=\"color: #3D74AB;\">User Activity</span>\n",
    "\n",
    "**We observe that the number of users who perform a specific number of transactions follows a normal distribution with a mean of 12.57 and a variance of 12.35.**\n"
   ]
  },
  {
   "cell_type": "code",
   "execution_count": null,
   "metadata": {},
   "outputs": [
    {
     "name": "stdout",
     "output_type": "stream",
     "text": [
      "mean: 12.57\n",
      "variance: 12.349449449449452\n"
     ]
    },
    {
     "ename": "TypeError",
     "evalue": "Legend.__init__() got an unexpected keyword argument 'l20B2AAoc'",
     "output_type": "error",
     "traceback": [
      "\u001b[0;31m---------------------------------------------------------------------------\u001b[0m",
      "\u001b[0;31mTypeError\u001b[0m                                 Traceback (most recent call last)",
      "Cell \u001b[0;32mIn[31], line 10\u001b[0m\n\u001b[1;32m      8\u001b[0m plt\u001b[38;5;241m.\u001b[39mxlabel(\u001b[38;5;124m'\u001b[39m\u001b[38;5;124mNumber of Transactions per User\u001b[39m\u001b[38;5;124m'\u001b[39m)\n\u001b[1;32m      9\u001b[0m plt\u001b[38;5;241m.\u001b[39mylabel(\u001b[38;5;124m'\u001b[39m\u001b[38;5;124mNumber of Users\u001b[39m\u001b[38;5;124m'\u001b[39m)\n\u001b[0;32m---> 10\u001b[0m \u001b[43mplt\u001b[49m\u001b[38;5;241;43m.\u001b[39;49m\u001b[43mlegend\u001b[49m\u001b[43m(\u001b[49m\u001b[43ml20B2AAoc\u001b[49m\u001b[38;5;241;43m=\u001b[39;49m\u001b[38;5;124;43m'\u001b[39;49m\u001b[38;5;124;43mupper right\u001b[39;49m\u001b[38;5;124;43m'\u001b[39;49m\u001b[43m)\u001b[49m \n\u001b[1;32m     11\u001b[0m plt\u001b[38;5;241m.\u001b[39mgrid(\u001b[38;5;28;01mTrue\u001b[39;00m)\n\u001b[1;32m     12\u001b[0m plt\u001b[38;5;241m.\u001b[39mtight_layout()\n",
      "File \u001b[0;32m~/.local/lib/python3.12/site-packages/matplotlib/pyplot.py:3588\u001b[0m, in \u001b[0;36mlegend\u001b[0;34m(*args, **kwargs)\u001b[0m\n\u001b[1;32m   3586\u001b[0m \u001b[38;5;129m@_copy_docstring_and_deprecators\u001b[39m(Axes\u001b[38;5;241m.\u001b[39mlegend)\n\u001b[1;32m   3587\u001b[0m \u001b[38;5;28;01mdef\u001b[39;00m \u001b[38;5;21mlegend\u001b[39m(\u001b[38;5;241m*\u001b[39margs, \u001b[38;5;241m*\u001b[39m\u001b[38;5;241m*\u001b[39mkwargs) \u001b[38;5;241m-\u001b[39m\u001b[38;5;241m>\u001b[39m Legend:\n\u001b[0;32m-> 3588\u001b[0m     \u001b[38;5;28;01mreturn\u001b[39;00m \u001b[43mgca\u001b[49m\u001b[43m(\u001b[49m\u001b[43m)\u001b[49m\u001b[38;5;241;43m.\u001b[39;49m\u001b[43mlegend\u001b[49m\u001b[43m(\u001b[49m\u001b[38;5;241;43m*\u001b[39;49m\u001b[43margs\u001b[49m\u001b[43m,\u001b[49m\u001b[43m \u001b[49m\u001b[38;5;241;43m*\u001b[39;49m\u001b[38;5;241;43m*\u001b[39;49m\u001b[43mkwargs\u001b[49m\u001b[43m)\u001b[49m\n",
      "File \u001b[0;32m~/.local/lib/python3.12/site-packages/matplotlib/axes/_axes.py:342\u001b[0m, in \u001b[0;36mAxes.legend\u001b[0;34m(self, *args, **kwargs)\u001b[0m\n\u001b[1;32m    225\u001b[0m \u001b[38;5;250m\u001b[39m\u001b[38;5;124;03m\"\"\"\u001b[39;00m\n\u001b[1;32m    226\u001b[0m \u001b[38;5;124;03mPlace a legend on the Axes.\u001b[39;00m\n\u001b[1;32m    227\u001b[0m \n\u001b[0;32m   (...)\u001b[0m\n\u001b[1;32m    339\u001b[0m \u001b[38;5;124;03m.. plot:: gallery/text_labels_and_annotations/legend.py\u001b[39;00m\n\u001b[1;32m    340\u001b[0m \u001b[38;5;124;03m\"\"\"\u001b[39;00m\n\u001b[1;32m    341\u001b[0m handles, labels, kwargs \u001b[38;5;241m=\u001b[39m mlegend\u001b[38;5;241m.\u001b[39m_parse_legend_args([\u001b[38;5;28mself\u001b[39m], \u001b[38;5;241m*\u001b[39margs, \u001b[38;5;241m*\u001b[39m\u001b[38;5;241m*\u001b[39mkwargs)\n\u001b[0;32m--> 342\u001b[0m \u001b[38;5;28mself\u001b[39m\u001b[38;5;241m.\u001b[39mlegend_ \u001b[38;5;241m=\u001b[39m \u001b[43mmlegend\u001b[49m\u001b[38;5;241;43m.\u001b[39;49m\u001b[43mLegend\u001b[49m\u001b[43m(\u001b[49m\u001b[38;5;28;43mself\u001b[39;49m\u001b[43m,\u001b[49m\u001b[43m \u001b[49m\u001b[43mhandles\u001b[49m\u001b[43m,\u001b[49m\u001b[43m \u001b[49m\u001b[43mlabels\u001b[49m\u001b[43m,\u001b[49m\u001b[43m \u001b[49m\u001b[38;5;241;43m*\u001b[39;49m\u001b[38;5;241;43m*\u001b[39;49m\u001b[43mkwargs\u001b[49m\u001b[43m)\u001b[49m\n\u001b[1;32m    343\u001b[0m \u001b[38;5;28mself\u001b[39m\u001b[38;5;241m.\u001b[39mlegend_\u001b[38;5;241m.\u001b[39m_remove_method \u001b[38;5;241m=\u001b[39m \u001b[38;5;28mself\u001b[39m\u001b[38;5;241m.\u001b[39m_remove_legend\n\u001b[1;32m    344\u001b[0m \u001b[38;5;28;01mreturn\u001b[39;00m \u001b[38;5;28mself\u001b[39m\u001b[38;5;241m.\u001b[39mlegend_\n",
      "\u001b[0;31mTypeError\u001b[0m: Legend.__init__() got an unexpected keyword argument 'l20B2AAoc'"
     ]
    },
    {
     "data": {
      "image/png": "[encoded data removed]",
      "text/plain": [
       "<Figure size 1000x600 with 1 Axes>"
      ]
     },
     "metadata": {},
     "output_type": "display_data"
    }
   ],
   "source": [
    "transactions_per_user = df['customer_id'].value_counts()\n",
    "\n",
    "print(\"mean:\",transactions_per_user.mean())\n",
    "print(\"variance:\",transactions_per_user.var())\n",
    "plt.figure(figsize=(10, 6))\n",
    "transactions_per_user.hist(bins=100, color='coral', label='Users')\n",
    "plt.title('Distribution of User Activity')\n",
    "plt.xlabel('Number of Transactions per User')\n",
    "plt.ylabel('Number of Users')\n",
    "plt.legend(loc='upper right') \n",
    "plt.grid(True)\n",
    "plt.tight_layout()\n",
    "plt.show()\n",
    "\n"
   ]
  },
  {
   "cell_type": "markdown",
   "metadata": {},
   "source": [
    "**According to the chart, we see that initially, from 24:00 to 12:00 PM, the growth trend of the number of users is negative, and from 12:00 PM to 3:00 PM, there is a significant increase. After 3:00 PM, the downward trend begins and continues until 12:00 AM.**"
   ]
  },
  {
   "cell_type": "code",
   "execution_count": 27,
   "metadata": {},
   "outputs": [
    {
     "data": {
      "image/png": "[encoded data removed]",
      "text/plain": [
       "<Figure size 1000x600 with 1 Axes>"
      ]
     },
     "metadata": {},
     "output_type": "display_data"
    }
   ],
   "source": [
    "first_tx_per_user = df.groupby('customer_id')['timestamp'].min()\n",
    "\n",
    "new_users_per_day = first_tx_per_user.groupby(first_tx_per_user.dt.hour).count()\n",
    "\n",
    "plt.figure(figsize=(10, 6))\n",
    "new_users_per_day.plot(kind='line', marker='o', color='green', label='New Users')\n",
    "plt.title('Growth of New Users Over Time')\n",
    "plt.xlabel('Hour')\n",
    "plt.xticks(range(0, 24))\n",
    "plt.ylabel('Number of New Users')\n",
    "plt.legend(loc='upper right') \n",
    "plt.grid(True)\n",
    "plt.tight_layout()\n",
    "plt.show()\n",
    "\n"
   ]
  }
 ],
 "metadata": {
  "kernelspec": {
   "display_name": "Python 3",
   "language": "python",
   "name": "python3"
  },
  "language_info": {
   "codemirror_mode": {
    "name": "ipython",
    "version": 3
   },
   "file_extension": ".py",
   "mimetype": "text/x-python",
   "name": "python",
   "nbconvert_exporter": "python",
   "pygments_lexer": "ipython3",
   "version": "3.12.3"
  }
 },
 "nbformat": 4,
 "nbformat_minor": 2
}
